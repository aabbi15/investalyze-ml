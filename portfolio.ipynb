{
 "cells": [
  {
   "cell_type": "code",
   "execution_count": 1,
   "metadata": {},
   "outputs": [
    {
     "name": "stderr",
     "output_type": "stream",
     "text": [
      "[*********************100%***********************]  1 of 1 completed\n",
      "[*********************100%***********************]  1 of 1 completed\n",
      "[*********************100%***********************]  1 of 1 completed\n",
      "[*********************100%***********************]  1 of 1 completed\n",
      "[*********************100%***********************]  1 of 1 completed\n"
     ]
    }
   ],
   "source": [
    "import yfinance as yf\n",
    "import pandas as pd\n",
    "from datetime import datetime,timedelta\n",
    "import numpy as np\n",
    "from scipy.optimize import _minimize\n",
    "tickers = ['SPY','BND','GLD','QQQ','MSFT']\n",
    "end_date=datetime.today()\n",
    "start_date=end_date-timedelta(days=10*365)\n",
    "adj_close_df=pd.DataFrame()\n",
    "for ticker in tickers:\n",
    "    data=yf.download(ticker,start=start_date)\n",
    "    adj_close_df[ticker]=data['Adj Close']"
   ]
  },
  {
   "cell_type": "code",
   "execution_count": 2,
   "metadata": {},
   "outputs": [
    {
     "name": "stdout",
     "output_type": "stream",
     "text": [
      "                   SPY        BND         GLD         QQQ        MSFT\n",
      "Date                                                                 \n",
      "2014-12-04  174.092758  62.782581  115.879997   97.308624   41.938564\n",
      "2014-12-05  174.377838  62.599953  114.430000   97.317841   41.577911\n",
      "2014-12-08  173.212479  62.729343  115.779999   96.625252   40.959660\n",
      "2014-12-09  173.095139  62.752163  118.190002   96.929993   40.865215\n",
      "2014-12-10  170.320175  62.919514  117.959999   95.406212   40.272697\n",
      "...                ...        ...         ...         ...         ...\n",
      "2024-11-22  595.510010  72.589996  249.839996  505.790009  417.000000\n",
      "2024-11-25  597.530029  73.260002  242.479996  506.589996  418.790009\n",
      "2024-11-26  600.650024  73.129997  242.949997  509.309998  427.989990\n",
      "2024-11-27  598.830017  73.330002  243.490005  505.299988  422.989990\n",
      "2024-11-29  602.549988  73.599998  245.589996  509.739990  423.459991\n",
      "\n",
      "[2514 rows x 5 columns]\n"
     ]
    }
   ],
   "source": [
    "print(adj_close_df)"
   ]
  },
  {
   "cell_type": "code",
   "execution_count": 3,
   "metadata": {},
   "outputs": [],
   "source": [
    "log_returns=np.log(adj_close_df/adj_close_df.shift(1))"
   ]
  },
  {
   "cell_type": "code",
   "execution_count": 4,
   "metadata": {},
   "outputs": [],
   "source": [
    "log_returns=log_returns.dropna()"
   ]
  },
  {
   "cell_type": "code",
   "execution_count": 5,
   "metadata": {},
   "outputs": [
    {
     "name": "stdout",
     "output_type": "stream",
     "text": [
      "           SPY       BND       GLD       QQQ      MSFT\n",
      "SPY   0.031298  0.001006  0.001104  0.035946  0.038291\n",
      "BND   0.001006  0.002969  0.002791  0.001323  0.001451\n",
      "GLD   0.001104  0.002791  0.020090  0.001699  0.001032\n",
      "QQQ   0.035946  0.001323  0.001699  0.047776  0.051213\n",
      "MSFT  0.038291  0.001451  0.001032  0.051213  0.073746\n"
     ]
    }
   ],
   "source": [
    "cov_matrix=log_returns.cov()*252\n",
    "print(cov_matrix)"
   ]
  },
  {
   "cell_type": "code",
   "execution_count": 6,
   "metadata": {},
   "outputs": [],
   "source": [
    "def standard_deviation(weights,cov_matrix):\n",
    "    variance=weights.T @ cov_matrix @ weights\n",
    "    return np.sqrt(variance)\n"
   ]
  },
  {
   "cell_type": "code",
   "execution_count": 7,
   "metadata": {},
   "outputs": [],
   "source": [
    "def expected_return(weights,log_returns):\n",
    "    return np.sum(log_returns.mean()*weights)*252"
   ]
  },
  {
   "cell_type": "code",
   "execution_count": 8,
   "metadata": {},
   "outputs": [],
   "source": [
    "def sharpe_ratio(weights,log_returns,cov_matrix,risk_free_rate):\n",
    "    return (expected_return(weights,log_returns)-risk_free_rate)/standard_deviation(weights,cov_matrix)"
   ]
  },
  {
   "cell_type": "code",
   "execution_count": 9,
   "metadata": {},
   "outputs": [
    {
     "name": "stdout",
     "output_type": "stream",
     "text": [
      "0.040999999999999995\n"
     ]
    }
   ],
   "source": [
    "from fredapi import Fred\n",
    "fred=Fred(api_key=\"e697a2cafe111b67d12dc7bb6b24758f\")\n",
    "ten_year_treasury_rate=fred.get_series_latest_release('GS10')/100\n",
    "risk_free_rate = ten_year_treasury_rate.iloc[-1]\n",
    "print(risk_free_rate)"
   ]
  },
  {
   "cell_type": "code",
   "execution_count": 10,
   "metadata": {},
   "outputs": [],
   "source": [
    "def neg_sharpe_ratio(weights,log_returns,cov_matrix,risk_free):\n",
    "    return -sharpe_ratio(weights,log_returns,cov_matrix,risk_free_rate)\n"
   ]
  },
  {
   "cell_type": "code",
   "execution_count": 11,
   "metadata": {},
   "outputs": [],
   "source": [
    "constraints = {'type':'eq','fun':lambda weights:np.sum(weights)-1}\n",
    "bounds=[(0,0.5)for _ in range(len(tickers))]\n"
   ]
  },
  {
   "cell_type": "code",
   "execution_count": 12,
   "metadata": {},
   "outputs": [
    {
     "name": "stdout",
     "output_type": "stream",
     "text": [
      "[0.2 0.2 0.2 0.2 0.2]\n"
     ]
    }
   ],
   "source": [
    "initial_weights = np.array([1/len(tickers)]*len(tickers))\n",
    "print(initial_weights)"
   ]
  },
  {
   "cell_type": "code",
   "execution_count": 13,
   "metadata": {},
   "outputs": [],
   "source": [
    "from scipy.optimize import minimize\n",
    "optimized_results = minimize(neg_sharpe_ratio,initial_weights,args=(log_returns,cov_matrix,risk_free_rate),method='SLSQP',constraints=constraints,bounds=bounds)"
   ]
  },
  {
   "cell_type": "code",
   "execution_count": 14,
   "metadata": {},
   "outputs": [
    {
     "name": "stdout",
     "output_type": "stream",
     "text": [
      "[0.00000000e+00 1.79766479e-17 4.33612792e-01 6.63872084e-02\n",
      " 5.00000000e-01]\n"
     ]
    }
   ],
   "source": [
    "optimal_weights=optimized_results.x\n",
    "print(optimal_weights)"
   ]
  }
 ],
 "metadata": {
  "kernelspec": {
   "display_name": "Python 3",
   "language": "python",
   "name": "python3"
  },
  "language_info": {
   "codemirror_mode": {
    "name": "ipython",
    "version": 3
   },
   "file_extension": ".py",
   "mimetype": "text/x-python",
   "name": "python",
   "nbconvert_exporter": "python",
   "pygments_lexer": "ipython3",
   "version": "3.11.1"
  }
 },
 "nbformat": 4,
 "nbformat_minor": 2
}
